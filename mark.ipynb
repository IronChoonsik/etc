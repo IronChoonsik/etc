{
 "cells": [
  {
   "cell_type": "markdown",
   "metadata": {},
   "source": [
    "제목1\n",
    "=\n",
    "\n",
    "부제목\n",
    "-\n",
    "\n",
    "# h1\n",
    "### h3\n",
    "###### h6\n",
    "\n",
    "> content1\n",
    ">   >content2\n",
    ">   >   >content3"
   ]
  },
  {
   "cell_type": "markdown",
   "metadata": {},
   "source": [
    "## list\n",
    "\n",
    "1. 첫번째\n",
    "2. 두번쨰\n",
    "3. 세번째\n",
    "\n",
    "* 리스트1\n",
    "    * 리스트2\n",
    "        * 리스트3\n"
   ]
  },
  {
   "cell_type": "markdown",
   "metadata": {},
   "source": [
    "### code\n",
    "\n",
    "``` python\n",
    "i = 0\n",
    "i + 1\n",
    "print(i)\n",
    "```\n",
    "\n",
    "code end\n",
    "\n",
    "********************\n",
    "--------------------\n",
    "\n"
   ]
  },
  {
   "cell_type": "markdown",
   "metadata": {},
   "source": [
    "[Google][http://google.com]"
   ]
  },
  {
   "cell_type": "markdown",
   "metadata": {},
   "source": [
    "![Alt text](https://search.pstatic.net/common/?src=http%3A%2F%2Fblogfiles.naver.net%2FMjAyMTEwMDdfNDEg%2FMDAxNjMzNjAwMDk4ODM1.ahOAMBQDG4zaesfDk5w1aVimGmbbzaeEtLvdeksTqKUg.gmDLAfEZIGZS--JoaQna-zbHeuLI1ZxYx0YAHLtH3W8g.JPEG.wis04062%2FUntitled-1_copy.jpg&type=a340)\n",
    "\n",
    ">"
   ]
  },
  {
   "cell_type": "markdown",
   "metadata": {},
   "source": [
    "<img src='https://search.pstatic.net/common/?src=http%3A%2F%2Fblogfiles.naver.net%2FMjAyMTEwMDdfNDEg%2FMDAxNjMzNjAwMDk4ODM1.ahOAMBQDG4zaesfDk5w1aVimGmbbzaeEtLvdeksTqKUg.gmDLAfEZIGZS--JoaQna-zbHeuLI1ZxYx0YAHLtH3W8g.JPEG.wis04062%2FUntitled-1_copy.jpg&type=a340' width='20%'>"
   ]
  },
  {
   "cell_type": "markdown",
   "metadata": {},
   "source": []
  }
 ],
 "metadata": {
  "interpreter": {
   "hash": "aee8b7b246df8f9039afb4144a1f6fd8d2ca17a180786b69acc140d282b71a49"
  },
  "kernelspec": {
   "display_name": "Python 3.10.2 64-bit",
   "language": "python",
   "name": "python3"
  },
  "language_info": {
   "codemirror_mode": {
    "name": "ipython",
    "version": 3
   },
   "file_extension": ".py",
   "mimetype": "text/x-python",
   "name": "python",
   "nbconvert_exporter": "python",
   "pygments_lexer": "ipython3",
   "version": "3.10.2"
  },
  "orig_nbformat": 4
 },
 "nbformat": 4,
 "nbformat_minor": 2
}
